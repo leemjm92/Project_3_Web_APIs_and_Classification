{
 "cells": [
  {
   "cell_type": "markdown",
   "metadata": {},
   "source": [
    "# Project 3: Web APIs & Classification"
   ]
  },
  {
   "cell_type": "markdown",
   "metadata": {},
   "source": [
    "## Notebook 2: Data Cleaning and EDA"
   ]
  },
  {
   "cell_type": "markdown",
   "metadata": {},
   "source": [
    "### Contents:\n",
    "- [EDA](#EDA)\n",
    "- [Create classification column and combine data](#Create-classification-column-and-combine-data)"
   ]
  },
  {
   "cell_type": "code",
   "execution_count": 1,
   "metadata": {},
   "outputs": [],
   "source": [
    "import pandas as pd\n",
    "import ast"
   ]
  },
  {
   "cell_type": "code",
   "execution_count": 2,
   "metadata": {},
   "outputs": [],
   "source": [
    "dems_uncleaned_df = pd.read_csv('../datasets/dems_top1000_posts.csv')\n",
    "reps_uncleaned_df = pd.read_csv('../datasets/reps_top1000_posts.csv')"
   ]
  },
  {
   "cell_type": "markdown",
   "metadata": {},
   "source": [
    "### EDA"
   ]
  },
  {
   "cell_type": "code",
   "execution_count": 3,
   "metadata": {},
   "outputs": [
    {
     "name": "stdout",
     "output_type": "stream",
     "text": [
      "(998, 2) (999, 2)\n"
     ]
    }
   ],
   "source": [
    "# check to ensure the files are in the correct shape\n",
    "print(dems_uncleaned_df.shape, reps_uncleaned_df.shape)"
   ]
  },
  {
   "cell_type": "code",
   "execution_count": 4,
   "metadata": {},
   "outputs": [
    {
     "data": {
      "text/plain": [
       "\"{'approved_at_utc': None, 'subreddit': 'democrats', 'selftext': '', 'author_fullname': 't2_ttyik', 'saved': False, 'mod_reason_title': None, 'gilded': 2, 'clicked': False, 'title': 'This is President Barack Obama. He did not sell Americans out to the telecom lobby, but instead called upon on the FCC to take up the strongest possible rules to protect net neutrality, which they did at his instruction in 2015.', 'link_flair_richtext': [], 'subreddit_name_prefixed': 'r/democrats', 'hidden': False, 'pwls': 6, 'link_flair_css_class': None, 'downs': 0, 'thumbnail_height': 140, 'top_awarded_type': None, 'hide_score': False, 'name': 't3_7gzh5a', 'quarantine': False, 'link_flair_text_color': 'dark', 'upvote_ratio': 0.68, 'author_flair_background_color': None, 'subreddit_type': 'public', 'ups': 54436, 'total_awards_received': 2, 'media_embed': {}, 'thumbnail_width': 140, 'author_flair_template_id': None, 'is_original_content': False, 'user_reports': [], 'secure_media': None, 'is_reddit_media_domain': False, 'is_meta': False, 'category': None, 'secure_media_embed': {}, 'link_flair_text': None, 'can_mod_post': False, 'score': 54436, 'approved_by': None, 'author_premium': False, 'thumbnail': 'https://a.thumbs.redditmedia.com/klRJ5c_KOFVBwt2Wwy7oamvrP6n1YKAAbhKPKOrqE44.jpg', 'edited': False, 'author_flair_css_class': None, 'author_flair_richtext': [], 'gildings': {'gid_2': 2}, 'post_hint': 'image', 'content_categories': None, 'is_self': False, 'mod_note': None, 'created': 1512204268.0, 'link_flair_type': 'text', 'wls': 6, 'removed_by_category': None, 'banned_by': None, 'author_flair_type': 'text', 'domain': 'upload.wikimedia.org', 'allow_live_comments': True, 'selftext_html': None, 'likes': None, 'suggested_sort': None, 'banned_at_utc': None, 'view_count': None, 'archived': True, 'no_follow': False, 'is_crosspostable': False, 'pinned': False, 'over_18': False, 'preview': {'images': [{'source': {'url': 'https://external-preview.redd.it/VZvJJhcDNuesyHfFmf-8AiviVdjfFPMAprVsJVjChLQ.jpg?auto=webp&amp;s=f26d592df993949a227c7fd54abfb1a3d7d70aa3', 'width': 2687, 'height': 3356}, 'resolutions': [{'url': 'https://external-preview.redd.it/VZvJJhcDNuesyHfFmf-8AiviVdjfFPMAprVsJVjChLQ.jpg?width=108&amp;crop=smart&amp;auto=webp&amp;s=b93db29c2d829eeecc9658d6a52d3f02fbb12267', 'width': 108, 'height': 134}, {'url': 'https://external-preview.redd.it/VZvJJhcDNuesyHfFmf-8AiviVdjfFPMAprVsJVjChLQ.jpg?width=216&amp;crop=smart&amp;auto=webp&amp;s=f5a6271c6d7d6517ef1a6823815d21f228d5082f', 'width': 216, 'height': 269}, {'url': 'https://external-preview.redd.it/VZvJJhcDNuesyHfFmf-8AiviVdjfFPMAprVsJVjChLQ.jpg?width=320&amp;crop=smart&amp;auto=webp&amp;s=29673d57f24647a56a288eec0466693b1989f215', 'width': 320, 'height': 399}, {'url': 'https://external-preview.redd.it/VZvJJhcDNuesyHfFmf-8AiviVdjfFPMAprVsJVjChLQ.jpg?width=640&amp;crop=smart&amp;auto=webp&amp;s=8e7770f868ebdb03abc68fee0ded4ada2f160676', 'width': 640, 'height': 799}, {'url': 'https://external-preview.redd.it/VZvJJhcDNuesyHfFmf-8AiviVdjfFPMAprVsJVjChLQ.jpg?width=960&amp;crop=smart&amp;auto=webp&amp;s=9870c3be96175e560662296a50b80a1221668d41', 'width': 960, 'height': 1199}, {'url': 'https://external-preview.redd.it/VZvJJhcDNuesyHfFmf-8AiviVdjfFPMAprVsJVjChLQ.jpg?width=1080&amp;crop=smart&amp;auto=webp&amp;s=bdd4c69a1962fe762127e418057500daec053baf', 'width': 1080, 'height': 1348}], 'variants': {}, 'id': 'dE3YSPuwWEIpFp4BxJRGZJV8YklfueivUUoIjrykPhk'}], 'enabled': True}, 'all_awardings': [{'giver_coin_reward': None, 'subreddit_id': None, 'is_new': False, 'days_of_drip_extension': 0, 'coin_price': 500, 'id': 'gid_2', 'penny_donate': None, 'award_sub_type': 'GLOBAL', 'coin_reward': 100, 'icon_url': 'https://www.redditstatic.com/gold/awards/icon/gold_512.png', 'days_of_premium': 7, 'resized_icons': [{'url': 'https://www.redditstatic.com/gold/awards/icon/gold_16.png', 'width': 16, 'height': 16}, {'url': 'https://www.redditstatic.com/gold/awards/icon/gold_32.png', 'width': 32, 'height': 32}, {'url': 'https://www.redditstatic.com/gold/awards/icon/gold_48.png', 'width': 48, 'height': 48}, {'url': 'https://www.redditstatic.com/gold/awards/icon/gold_64.png', 'width': 64, 'height': 64}, {'url': 'https://www.redditstatic.com/gold/awards/icon/gold_128.png', 'width': 128, 'height': 128}], 'icon_width': 512, 'static_icon_width': 512, 'start_date': None, 'is_enabled': True, 'description': 'Gives the author a week of Reddit Premium, %{coin_symbol}100 Coins to do with as they please, and shows a Gold Award.', 'end_date': None, 'subreddit_coin_reward': 0, 'count': 2, 'static_icon_height': 512, 'name': 'Gold', 'resized_static_icons': [{'url': 'https://www.redditstatic.com/gold/awards/icon/gold_16.png', 'width': 16, 'height': 16}, {'url': 'https://www.redditstatic.com/gold/awards/icon/gold_32.png', 'width': 32, 'height': 32}, {'url': 'https://www.redditstatic.com/gold/awards/icon/gold_48.png', 'width': 48, 'height': 48}, {'url': 'https://www.redditstatic.com/gold/awards/icon/gold_64.png', 'width': 64, 'height': 64}, {'url': 'https://www.redditstatic.com/gold/awards/icon/gold_128.png', 'width': 128, 'height': 128}], 'icon_format': None, 'icon_height': 512, 'penny_price': None, 'award_type': 'global', 'static_icon_url': 'https://www.redditstatic.com/gold/awards/icon/gold_512.png'}], 'awarders': [], 'media_only': False, 'can_gild': False, 'spoiler': False, 'locked': True, 'author_flair_text': None, 'treatment_tags': [], 'visited': False, 'removed_by': None, 'num_reports': None, 'distinguished': None, 'subreddit_id': 't5_2qn70', 'mod_reason_by': None, 'removal_reason': None, 'link_flair_background_color': '', 'id': '7gzh5a', 'is_robot_indexable': True, 'report_reasons': None, 'author': 'BumBiddlyBiddlyBum', 'discussion_type': None, 'num_comments': 441, 'send_replies': False, 'whitelist_status': 'all_ads', 'contest_mode': False, 'mod_reports': [], 'author_patreon_flair': False, 'author_flair_text_color': None, 'permalink': '/r/democrats/comments/7gzh5a/this_is_president_barack_obama_he_did_not_sell/', 'parent_whitelist_status': 'all_ads', 'stickied': False, 'url': 'https://upload.wikimedia.org/wikipedia/commons/8/8d/President_Barack_Obama.jpg', 'subreddit_subscribers': 133219, 'created_utc': 1512175468.0, 'num_crossposts': 1, 'media': None, 'is_video': False}\""
      ]
     },
     "execution_count": 4,
     "metadata": {},
     "output_type": "execute_result"
    }
   ],
   "source": [
    "dems_uncleaned_df['data'][0]"
   ]
  },
  {
   "cell_type": "code",
   "execution_count": 5,
   "metadata": {},
   "outputs": [
    {
     "data": {
      "text/plain": [
       "str"
      ]
     },
     "execution_count": 5,
     "metadata": {},
     "output_type": "execute_result"
    }
   ],
   "source": [
    "type(dems_uncleaned_df['data'][0])"
   ]
  },
  {
   "cell_type": "markdown",
   "metadata": {},
   "source": [
    "We can see that the data which is originally a dictionary has now been changed to a string type hence we would need to change it back into a string so that we can extract the relevant key value pair. We do it using the `ast` library function `literal_eval`. "
   ]
  },
  {
   "cell_type": "code",
   "execution_count": 6,
   "metadata": {},
   "outputs": [],
   "source": [
    "dems_uncleaned_df['data'] = dems_uncleaned_df['data'].map(lambda data: ast.literal_eval(data))\n",
    "reps_uncleaned_df['data'] = reps_uncleaned_df['data'].map(lambda data: ast.literal_eval(data))"
   ]
  },
  {
   "cell_type": "code",
   "execution_count": 7,
   "metadata": {},
   "outputs": [
    {
     "data": {
      "text/plain": [
       "dict"
      ]
     },
     "execution_count": 7,
     "metadata": {},
     "output_type": "execute_result"
    }
   ],
   "source": [
    "# check that it has successfully changed to a dict type\n",
    "type(dems_uncleaned_df['data'][0])"
   ]
  },
  {
   "cell_type": "code",
   "execution_count": 10,
   "metadata": {},
   "outputs": [
    {
     "data": {
      "text/plain": [
       "'This is President Barack Obama. He did not sell Americans out to the telecom lobby, but instead called upon on the FCC to take up the strongest possible rules to protect net neutrality, which they did at his instruction in 2015.'"
      ]
     },
     "execution_count": 10,
     "metadata": {},
     "output_type": "execute_result"
    }
   ],
   "source": [
    "# the reddit post title\n",
    "dems_uncleaned_df['data'][0]['title']"
   ]
  },
  {
   "cell_type": "code",
   "execution_count": 11,
   "metadata": {},
   "outputs": [
    {
     "data": {
      "text/plain": [
       "''"
      ]
     },
     "execution_count": 11,
     "metadata": {},
     "output_type": "execute_result"
    }
   ],
   "source": [
    "# the reddit post text\n",
    "dems_uncleaned_df['data'][0]['selftext']"
   ]
  },
  {
   "cell_type": "code",
   "execution_count": 12,
   "metadata": {},
   "outputs": [
    {
     "data": {
      "text/plain": [
       "'t3_7gzh5a'"
      ]
     },
     "execution_count": 12,
     "metadata": {},
     "output_type": "execute_result"
    }
   ],
   "source": [
    "# the reddit post id\n",
    "dems_uncleaned_df['data'][0]['name']"
   ]
  },
  {
   "cell_type": "code",
   "execution_count": 13,
   "metadata": {},
   "outputs": [
    {
     "data": {
      "text/plain": [
       "54436"
      ]
     },
     "execution_count": 13,
     "metadata": {},
     "output_type": "execute_result"
    }
   ],
   "source": [
    "# the reddit post upvotes\n",
    "dems_uncleaned_df['data'][0]['ups']"
   ]
  },
  {
   "cell_type": "code",
   "execution_count": 14,
   "metadata": {},
   "outputs": [
    {
     "data": {
      "text/plain": [
       "0"
      ]
     },
     "execution_count": 14,
     "metadata": {},
     "output_type": "execute_result"
    }
   ],
   "source": [
    "# the reddit post downvotes\n",
    "dems_uncleaned_df['data'][0]['downs']"
   ]
  },
  {
   "cell_type": "code",
   "execution_count": 16,
   "metadata": {},
   "outputs": [
    {
     "data": {
      "text/plain": [
       "998"
      ]
     },
     "execution_count": 16,
     "metadata": {},
     "output_type": "execute_result"
    }
   ],
   "source": [
    "len(dems_uncleaned_df)"
   ]
  },
  {
   "cell_type": "code",
   "execution_count": 17,
   "metadata": {},
   "outputs": [],
   "source": [
    "# iterate through the dataset and extract these 5 key value pair\n",
    "dems_titles = [dems_uncleaned_df['data'][i]['title'] for i in range (len(dems_uncleaned_df))]\n",
    "dems_selftext = [dems_uncleaned_df['data'][i]['selftext'] for i in range (len(dems_uncleaned_df))]\n",
    "dems_name = [dems_uncleaned_df['data'][i]['name'] for i in range (len(dems_uncleaned_df))]\n",
    "dems_ups = [dems_uncleaned_df['data'][i]['ups'] for i in range (len(dems_uncleaned_df))]\n",
    "dems_downs = [dems_uncleaned_df['data'][i]['downs'] for i in range (len(dems_uncleaned_df))]"
   ]
  },
  {
   "cell_type": "code",
   "execution_count": 18,
   "metadata": {},
   "outputs": [
    {
     "name": "stdout",
     "output_type": "stream",
     "text": [
      "998 998 998 998 998\n"
     ]
    }
   ],
   "source": [
    "print(len(dems_titles), len(dems_selftext), len(dems_name), len(dems_ups), len(dems_downs))"
   ]
  },
  {
   "cell_type": "code",
   "execution_count": 20,
   "metadata": {},
   "outputs": [],
   "source": [
    "# convert the data into a pandas dataframe\n",
    "dems_df = pd.DataFrame([dems_name, dems_titles, dems_selftext, dems_ups, dems_downs],\n",
    "                       index = ['post_id', 'title', 'post_text', 'upvotes', 'downvotes']).T"
   ]
  },
  {
   "cell_type": "code",
   "execution_count": 21,
   "metadata": {},
   "outputs": [
    {
     "name": "stdout",
     "output_type": "stream",
     "text": [
      "999 999 999 999 999\n"
     ]
    }
   ],
   "source": [
    "# the same process is done on the republican dataset\n",
    "reps_titles = [reps_uncleaned_df['data'][i]['title'] for i in range (len(reps_uncleaned_df))]\n",
    "reps_selftext = [reps_uncleaned_df['data'][i]['selftext'] for i in range (len(reps_uncleaned_df))]\n",
    "reps_name = [reps_uncleaned_df['data'][i]['name'] for i in range (len(reps_uncleaned_df))]\n",
    "reps_ups = [reps_uncleaned_df['data'][i]['ups'] for i in range (len(reps_uncleaned_df))]\n",
    "reps_downs = [reps_uncleaned_df['data'][i]['downs'] for i in range (len(reps_uncleaned_df))]\n",
    "\n",
    "print(len(reps_titles), len(reps_selftext), len(reps_name), len(reps_ups), len(reps_downs))"
   ]
  },
  {
   "cell_type": "code",
   "execution_count": 22,
   "metadata": {},
   "outputs": [],
   "source": [
    "reps_df = pd.DataFrame([reps_name, reps_titles, reps_selftext, reps_ups, reps_downs],\n",
    "                       index = ['post_id', 'title', 'post_text', 'upvotes', 'downvotes']).T"
   ]
  },
  {
   "cell_type": "markdown",
   "metadata": {},
   "source": [
    "### Create classification column and combine data"
   ]
  },
  {
   "cell_type": "markdown",
   "metadata": {},
   "source": [
    "We would need to combine the dataframe but before we do that we must designate a binary value to seperate dataframe, this new column will be `'is_dems'` where `1` is for all posts from r/democrats and `0` is for all posts from r/Republican"
   ]
  },
  {
   "cell_type": "code",
   "execution_count": 23,
   "metadata": {},
   "outputs": [],
   "source": [
    "dems_df['is_dems'] = 0\n",
    "reps_df['is_dems'] = 1"
   ]
  },
  {
   "cell_type": "code",
   "execution_count": 24,
   "metadata": {},
   "outputs": [],
   "source": [
    "# we use the ignore_index to ensure that the index is reset as we do not need to preserve it\n",
    "df = pd.concat([dems_df, reps_df], ignore_index = True)"
   ]
  },
  {
   "cell_type": "code",
   "execution_count": 25,
   "metadata": {},
   "outputs": [
    {
     "data": {
      "text/html": [
       "<div>\n",
       "<style scoped>\n",
       "    .dataframe tbody tr th:only-of-type {\n",
       "        vertical-align: middle;\n",
       "    }\n",
       "\n",
       "    .dataframe tbody tr th {\n",
       "        vertical-align: top;\n",
       "    }\n",
       "\n",
       "    .dataframe thead th {\n",
       "        text-align: right;\n",
       "    }\n",
       "</style>\n",
       "<table border=\"1\" class=\"dataframe\">\n",
       "  <thead>\n",
       "    <tr style=\"text-align: right;\">\n",
       "      <th></th>\n",
       "      <th>post_id</th>\n",
       "      <th>title</th>\n",
       "      <th>post_text</th>\n",
       "      <th>upvotes</th>\n",
       "      <th>downvotes</th>\n",
       "      <th>is_dems</th>\n",
       "    </tr>\n",
       "  </thead>\n",
       "  <tbody>\n",
       "    <tr>\n",
       "      <th>0</th>\n",
       "      <td>t3_7gzh5a</td>\n",
       "      <td>This is President Barack Obama. He did not sel...</td>\n",
       "      <td></td>\n",
       "      <td>54436</td>\n",
       "      <td>0</td>\n",
       "      <td>0</td>\n",
       "    </tr>\n",
       "    <tr>\n",
       "      <th>1</th>\n",
       "      <td>t3_7ekych</td>\n",
       "      <td>Join The Battle For Net Neutrality! Don't Let ...</td>\n",
       "      <td></td>\n",
       "      <td>30254</td>\n",
       "      <td>0</td>\n",
       "      <td>0</td>\n",
       "    </tr>\n",
       "    <tr>\n",
       "      <th>2</th>\n",
       "      <td>t3_7oj9cv</td>\n",
       "      <td>Republican ‘pro-life’ congressman slept with p...</td>\n",
       "      <td></td>\n",
       "      <td>19729</td>\n",
       "      <td>0</td>\n",
       "      <td>0</td>\n",
       "    </tr>\n",
       "    <tr>\n",
       "      <th>3</th>\n",
       "      <td>t3_85y5ja</td>\n",
       "      <td>It would not be polite to ask the President to...</td>\n",
       "      <td></td>\n",
       "      <td>19068</td>\n",
       "      <td>0</td>\n",
       "      <td>0</td>\n",
       "    </tr>\n",
       "    <tr>\n",
       "      <th>4</th>\n",
       "      <td>t3_89dmy7</td>\n",
       "      <td>Brian Klaas: \"The President is openly attempti...</td>\n",
       "      <td></td>\n",
       "      <td>17387</td>\n",
       "      <td>0</td>\n",
       "      <td>0</td>\n",
       "    </tr>\n",
       "  </tbody>\n",
       "</table>\n",
       "</div>"
      ],
      "text/plain": [
       "     post_id                                              title post_text  \\\n",
       "0  t3_7gzh5a  This is President Barack Obama. He did not sel...             \n",
       "1  t3_7ekych  Join The Battle For Net Neutrality! Don't Let ...             \n",
       "2  t3_7oj9cv  Republican ‘pro-life’ congressman slept with p...             \n",
       "3  t3_85y5ja  It would not be polite to ask the President to...             \n",
       "4  t3_89dmy7  Brian Klaas: \"The President is openly attempti...             \n",
       "\n",
       "  upvotes downvotes  is_dems  \n",
       "0   54436         0        0  \n",
       "1   30254         0        0  \n",
       "2   19729         0        0  \n",
       "3   19068         0        0  \n",
       "4   17387         0        0  "
      ]
     },
     "execution_count": 25,
     "metadata": {},
     "output_type": "execute_result"
    }
   ],
   "source": [
    "df.head()"
   ]
  },
  {
   "cell_type": "code",
   "execution_count": 26,
   "metadata": {},
   "outputs": [
    {
     "data": {
      "text/html": [
       "<div>\n",
       "<style scoped>\n",
       "    .dataframe tbody tr th:only-of-type {\n",
       "        vertical-align: middle;\n",
       "    }\n",
       "\n",
       "    .dataframe tbody tr th {\n",
       "        vertical-align: top;\n",
       "    }\n",
       "\n",
       "    .dataframe thead th {\n",
       "        text-align: right;\n",
       "    }\n",
       "</style>\n",
       "<table border=\"1\" class=\"dataframe\">\n",
       "  <thead>\n",
       "    <tr style=\"text-align: right;\">\n",
       "      <th></th>\n",
       "      <th>post_id</th>\n",
       "      <th>title</th>\n",
       "      <th>post_text</th>\n",
       "      <th>upvotes</th>\n",
       "      <th>downvotes</th>\n",
       "      <th>is_dems</th>\n",
       "    </tr>\n",
       "  </thead>\n",
       "  <tbody>\n",
       "    <tr>\n",
       "      <th>1992</th>\n",
       "      <td>t3_940n6h</td>\n",
       "      <td>NY Times newest editorial board member doesn't...</td>\n",
       "      <td></td>\n",
       "      <td>339</td>\n",
       "      <td>0</td>\n",
       "      <td>1</td>\n",
       "    </tr>\n",
       "    <tr>\n",
       "      <th>1993</th>\n",
       "      <td>t3_foqc2s</td>\n",
       "      <td>Why On Earth Should Anyone Believe China’s Cor...</td>\n",
       "      <td></td>\n",
       "      <td>330</td>\n",
       "      <td>0</td>\n",
       "      <td>1</td>\n",
       "    </tr>\n",
       "    <tr>\n",
       "      <th>1994</th>\n",
       "      <td>t3_e01nly</td>\n",
       "      <td>California court strikes down law seeking rele...</td>\n",
       "      <td></td>\n",
       "      <td>337</td>\n",
       "      <td>0</td>\n",
       "      <td>1</td>\n",
       "    </tr>\n",
       "    <tr>\n",
       "      <th>1995</th>\n",
       "      <td>t3_a56qlx</td>\n",
       "      <td>Tom Fitton to Testify on Clinton Foundation</td>\n",
       "      <td></td>\n",
       "      <td>340</td>\n",
       "      <td>0</td>\n",
       "      <td>1</td>\n",
       "    </tr>\n",
       "    <tr>\n",
       "      <th>1996</th>\n",
       "      <td>t3_9ah5li</td>\n",
       "      <td>Black Pastor: Trump ‘Probably Going to Be… Mos...</td>\n",
       "      <td></td>\n",
       "      <td>339</td>\n",
       "      <td>0</td>\n",
       "      <td>1</td>\n",
       "    </tr>\n",
       "  </tbody>\n",
       "</table>\n",
       "</div>"
      ],
      "text/plain": [
       "        post_id                                              title post_text  \\\n",
       "1992  t3_940n6h  NY Times newest editorial board member doesn't...             \n",
       "1993  t3_foqc2s  Why On Earth Should Anyone Believe China’s Cor...             \n",
       "1994  t3_e01nly  California court strikes down law seeking rele...             \n",
       "1995  t3_a56qlx        Tom Fitton to Testify on Clinton Foundation             \n",
       "1996  t3_9ah5li  Black Pastor: Trump ‘Probably Going to Be… Mos...             \n",
       "\n",
       "     upvotes downvotes  is_dems  \n",
       "1992     339         0        1  \n",
       "1993     330         0        1  \n",
       "1994     337         0        1  \n",
       "1995     340         0        1  \n",
       "1996     339         0        1  "
      ]
     },
     "execution_count": 26,
     "metadata": {},
     "output_type": "execute_result"
    }
   ],
   "source": [
    "df.tail()"
   ]
  },
  {
   "cell_type": "code",
   "execution_count": 28,
   "metadata": {},
   "outputs": [
    {
     "data": {
      "text/plain": [
       "(1997, 6)"
      ]
     },
     "execution_count": 28,
     "metadata": {},
     "output_type": "execute_result"
    }
   ],
   "source": [
    "df.shape"
   ]
  },
  {
   "cell_type": "code",
   "execution_count": 36,
   "metadata": {},
   "outputs": [
    {
     "data": {
      "text/plain": [
       "post_id         0\n",
       "title           0\n",
       "post_text       0\n",
       "upvotes         0\n",
       "downvotes       0\n",
       "is_dems         0\n",
       "combine_text    0\n",
       "dtype: int64"
      ]
     },
     "execution_count": 36,
     "metadata": {},
     "output_type": "execute_result"
    }
   ],
   "source": [
    "# check if there is any null value\n",
    "df.isnull().sum()"
   ]
  },
  {
   "cell_type": "code",
   "execution_count": 30,
   "metadata": {},
   "outputs": [
    {
     "data": {
      "text/plain": [
       "1    999\n",
       "0    998\n",
       "Name: is_dems, dtype: int64"
      ]
     },
     "execution_count": 30,
     "metadata": {},
     "output_type": "execute_result"
    }
   ],
   "source": [
    "df['is_dems'].value_counts()"
   ]
  },
  {
   "cell_type": "code",
   "execution_count": 31,
   "metadata": {},
   "outputs": [],
   "source": [
    "post_with_text = [post for post in df['post_text'] if (len(post) != 0)]"
   ]
  },
  {
   "cell_type": "code",
   "execution_count": 32,
   "metadata": {},
   "outputs": [
    {
     "data": {
      "text/plain": [
       "35"
      ]
     },
     "execution_count": 32,
     "metadata": {},
     "output_type": "execute_result"
    }
   ],
   "source": [
    "len(post_with_text)"
   ]
  },
  {
   "cell_type": "code",
   "execution_count": 33,
   "metadata": {},
   "outputs": [],
   "source": [
    "df['combine_text'] = df['title'] + ' ' + df['post_text']"
   ]
  },
  {
   "cell_type": "code",
   "execution_count": 34,
   "metadata": {},
   "outputs": [
    {
     "data": {
      "text/html": [
       "<div>\n",
       "<style scoped>\n",
       "    .dataframe tbody tr th:only-of-type {\n",
       "        vertical-align: middle;\n",
       "    }\n",
       "\n",
       "    .dataframe tbody tr th {\n",
       "        vertical-align: top;\n",
       "    }\n",
       "\n",
       "    .dataframe thead th {\n",
       "        text-align: right;\n",
       "    }\n",
       "</style>\n",
       "<table border=\"1\" class=\"dataframe\">\n",
       "  <thead>\n",
       "    <tr style=\"text-align: right;\">\n",
       "      <th></th>\n",
       "      <th>post_id</th>\n",
       "      <th>title</th>\n",
       "      <th>post_text</th>\n",
       "      <th>upvotes</th>\n",
       "      <th>downvotes</th>\n",
       "      <th>is_dems</th>\n",
       "      <th>combine_text</th>\n",
       "    </tr>\n",
       "  </thead>\n",
       "  <tbody>\n",
       "    <tr>\n",
       "      <th>0</th>\n",
       "      <td>t3_7gzh5a</td>\n",
       "      <td>This is President Barack Obama. He did not sel...</td>\n",
       "      <td></td>\n",
       "      <td>54436</td>\n",
       "      <td>0</td>\n",
       "      <td>0</td>\n",
       "      <td>This is President Barack Obama. He did not sel...</td>\n",
       "    </tr>\n",
       "    <tr>\n",
       "      <th>1</th>\n",
       "      <td>t3_7ekych</td>\n",
       "      <td>Join The Battle For Net Neutrality! Don't Let ...</td>\n",
       "      <td></td>\n",
       "      <td>30254</td>\n",
       "      <td>0</td>\n",
       "      <td>0</td>\n",
       "      <td>Join The Battle For Net Neutrality! Don't Let ...</td>\n",
       "    </tr>\n",
       "    <tr>\n",
       "      <th>2</th>\n",
       "      <td>t3_7oj9cv</td>\n",
       "      <td>Republican ‘pro-life’ congressman slept with p...</td>\n",
       "      <td></td>\n",
       "      <td>19729</td>\n",
       "      <td>0</td>\n",
       "      <td>0</td>\n",
       "      <td>Republican ‘pro-life’ congressman slept with p...</td>\n",
       "    </tr>\n",
       "    <tr>\n",
       "      <th>3</th>\n",
       "      <td>t3_85y5ja</td>\n",
       "      <td>It would not be polite to ask the President to...</td>\n",
       "      <td></td>\n",
       "      <td>19068</td>\n",
       "      <td>0</td>\n",
       "      <td>0</td>\n",
       "      <td>It would not be polite to ask the President to...</td>\n",
       "    </tr>\n",
       "    <tr>\n",
       "      <th>4</th>\n",
       "      <td>t3_89dmy7</td>\n",
       "      <td>Brian Klaas: \"The President is openly attempti...</td>\n",
       "      <td></td>\n",
       "      <td>17387</td>\n",
       "      <td>0</td>\n",
       "      <td>0</td>\n",
       "      <td>Brian Klaas: \"The President is openly attempti...</td>\n",
       "    </tr>\n",
       "  </tbody>\n",
       "</table>\n",
       "</div>"
      ],
      "text/plain": [
       "     post_id                                              title post_text  \\\n",
       "0  t3_7gzh5a  This is President Barack Obama. He did not sel...             \n",
       "1  t3_7ekych  Join The Battle For Net Neutrality! Don't Let ...             \n",
       "2  t3_7oj9cv  Republican ‘pro-life’ congressman slept with p...             \n",
       "3  t3_85y5ja  It would not be polite to ask the President to...             \n",
       "4  t3_89dmy7  Brian Klaas: \"The President is openly attempti...             \n",
       "\n",
       "  upvotes downvotes  is_dems  \\\n",
       "0   54436         0        0   \n",
       "1   30254         0        0   \n",
       "2   19729         0        0   \n",
       "3   19068         0        0   \n",
       "4   17387         0        0   \n",
       "\n",
       "                                        combine_text  \n",
       "0  This is President Barack Obama. He did not sel...  \n",
       "1  Join The Battle For Net Neutrality! Don't Let ...  \n",
       "2  Republican ‘pro-life’ congressman slept with p...  \n",
       "3  It would not be polite to ask the President to...  \n",
       "4  Brian Klaas: \"The President is openly attempti...  "
      ]
     },
     "execution_count": 34,
     "metadata": {},
     "output_type": "execute_result"
    }
   ],
   "source": [
    "df.head()"
   ]
  },
  {
   "cell_type": "code",
   "execution_count": 35,
   "metadata": {},
   "outputs": [],
   "source": [
    "df.to_csv('../datasets/df_eda.csv', index = False)"
   ]
  },
  {
   "cell_type": "markdown",
   "metadata": {},
   "source": [
    "## Continue to Notebook 03"
   ]
  }
 ],
 "metadata": {
  "kernelspec": {
   "display_name": "Python 3",
   "language": "python",
   "name": "python3"
  },
  "language_info": {
   "codemirror_mode": {
    "name": "ipython",
    "version": 3
   },
   "file_extension": ".py",
   "mimetype": "text/x-python",
   "name": "python",
   "nbconvert_exporter": "python",
   "pygments_lexer": "ipython3",
   "version": "3.7.6"
  }
 },
 "nbformat": 4,
 "nbformat_minor": 4
}
